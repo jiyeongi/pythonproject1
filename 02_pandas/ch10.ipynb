{
 "cells": [
  {
   "cell_type": "code",
   "execution_count": 2,
   "id": "2298b0b1-b2dc-47bd-83e7-4fcd03000729",
   "metadata": {
    "tags": []
   },
   "outputs": [],
   "source": [
    "def my_sq(x):\n",
    "    return x ** 2\n",
    "\n",
    "def my_exp(x,n):\n",
    "    return x ** n"
   ]
  },
  {
   "cell_type": "code",
   "execution_count": 6,
   "id": "0d929387-ea10-46a9-a8e1-0e9aa66e91dc",
   "metadata": {
    "tags": []
   },
   "outputs": [
    {
     "data": {
      "text/plain": [
       "9"
      ]
     },
     "execution_count": 6,
     "metadata": {},
     "output_type": "execute_result"
    }
   ],
   "source": [
    "my_sq(3)"
   ]
  },
  {
   "cell_type": "code",
   "execution_count": 8,
   "id": "5b17f0f7-4ec1-4929-aaa7-e37aed674ffc",
   "metadata": {
    "collapsed": true,
    "jupyter": {
     "outputs_hidden": true
    },
    "tags": []
   },
   "outputs": [
    {
     "ename": "TypeError",
     "evalue": "my_exp() missing 2 required positional arguments: 'x' and 'n'",
     "output_type": "error",
     "traceback": [
      "\u001b[1;31m---------------------------------------------------------------------------\u001b[0m",
      "\u001b[1;31mTypeError\u001b[0m                                 Traceback (most recent call last)",
      "Cell \u001b[1;32mIn[8], line 1\u001b[0m\n\u001b[1;32m----> 1\u001b[0m \u001b[43mmy_exp\u001b[49m\u001b[43m(\u001b[49m\u001b[43m)\u001b[49m\n",
      "\u001b[1;31mTypeError\u001b[0m: my_exp() missing 2 required positional arguments: 'x' and 'n'"
     ]
    }
   ],
   "source": [
    "my_exp()"
   ]
  },
  {
   "cell_type": "code",
   "execution_count": 3,
   "id": "abde906b-6730-4b7c-9306-79b96546b203",
   "metadata": {
    "tags": []
   },
   "outputs": [],
   "source": [
    "import pandas as pd"
   ]
  },
  {
   "cell_type": "code",
   "execution_count": 4,
   "id": "1835750c-ee4d-4aea-92df-20c51ebfd694",
   "metadata": {
    "tags": []
   },
   "outputs": [],
   "source": [
    "df=pd.DataFrame({'a':[10,20,30],'b':[20,30,40]})"
   ]
  },
  {
   "cell_type": "code",
   "execution_count": 5,
   "id": "a97b39a7-68f1-415d-879e-d91119dd3b98",
   "metadata": {
    "collapsed": true,
    "jupyter": {
     "outputs_hidden": true
    },
    "tags": []
   },
   "outputs": [
    {
     "data": {
      "text/plain": [
       "0    100\n",
       "1    400\n",
       "2    900\n",
       "Name: a, dtype: int64"
      ]
     },
     "execution_count": 5,
     "metadata": {},
     "output_type": "execute_result"
    }
   ],
   "source": [
    "df['a'].apply(my_sq)"
   ]
  },
  {
   "cell_type": "code",
   "execution_count": 10,
   "id": "8ec97b35-9c8e-47b9-aae9-2a4342148793",
   "metadata": {
    "tags": []
   },
   "outputs": [
    {
     "data": {
      "text/plain": [
       "0     1000\n",
       "1     8000\n",
       "2    27000\n",
       "Name: a, dtype: int64"
      ]
     },
     "execution_count": 10,
     "metadata": {},
     "output_type": "execute_result"
    }
   ],
   "source": [
    "# 3제곱\n",
    "df['a'].apply(my_exp,n=3)"
   ]
  },
  {
   "cell_type": "code",
   "execution_count": 11,
   "id": "2d3316f6-10e4-4ebe-9ba2-4a1e17964d99",
   "metadata": {
    "tags": []
   },
   "outputs": [],
   "source": [
    "def print_me(x):\n",
    "    print(x)"
   ]
  },
  {
   "cell_type": "code",
   "execution_count": 13,
   "id": "cd1517f5-f1db-4946-802d-1b98543b39c3",
   "metadata": {
    "tags": []
   },
   "outputs": [
    {
     "name": "stdout",
     "output_type": "stream",
     "text": [
      "0    10\n",
      "1    20\n",
      "2    30\n",
      "Name: a, dtype: int64\n",
      "0    20\n",
      "1    30\n",
      "2    40\n",
      "Name: b, dtype: int64\n"
     ]
    },
    {
     "data": {
      "text/plain": [
       "a    None\n",
       "b    None\n",
       "dtype: object"
      ]
     },
     "execution_count": 13,
     "metadata": {},
     "output_type": "execute_result"
    }
   ],
   "source": [
    "df.apply(print_me)"
   ]
  },
  {
   "cell_type": "code",
   "execution_count": null,
   "id": "4f7d0cbe-e152-4524-a7e0-4dae13757b04",
   "metadata": {},
   "outputs": [],
   "source": [
    "df.apply()"
   ]
  },
  {
   "cell_type": "code",
   "execution_count": 14,
   "id": "0a9b6cf1-f4a2-41a3-adbb-3e825bf1b622",
   "metadata": {
    "tags": []
   },
   "outputs": [],
   "source": [
    "def data_sum(x):\n",
    "    return sum(x)"
   ]
  },
  {
   "cell_type": "code",
   "execution_count": 17,
   "id": "96da4d63-9cf9-42f0-ab8e-22545bf53507",
   "metadata": {
    "tags": []
   },
   "outputs": [
    {
     "data": {
      "text/plain": [
       "a    60\n",
       "b    90\n",
       "dtype: int64"
      ]
     },
     "execution_count": 17,
     "metadata": {},
     "output_type": "execute_result"
    }
   ],
   "source": [
    "df.apply(data_sum,axis=0)"
   ]
  },
  {
   "cell_type": "code",
   "execution_count": null,
   "id": "da920b1a-8f52-44a0-bb28-052b877bf716",
   "metadata": {},
   "outputs": [],
   "source": [
    "df."
   ]
  },
  {
   "cell_type": "code",
   "execution_count": 18,
   "id": "2c617b8c-844e-4adc-ba69-7020d6e194cc",
   "metadata": {
    "tags": []
   },
   "outputs": [],
   "source": [
    "def data_sum(x):\n",
    "    print(x[0])\n",
    "    print(x[1])\n",
    "    return x[0]*x[1]"
   ]
  },
  {
   "cell_type": "code",
   "execution_count": 20,
   "id": "70920709-137f-467f-9d98-04f60b3e00de",
   "metadata": {
    "tags": []
   },
   "outputs": [
    {
     "name": "stdout",
     "output_type": "stream",
     "text": [
      "10\n",
      "20\n",
      "20\n",
      "30\n",
      "30\n",
      "40\n"
     ]
    },
    {
     "data": {
      "text/plain": [
       "0     200\n",
       "1     600\n",
       "2    1200\n",
       "dtype: int64"
      ]
     },
     "execution_count": 20,
     "metadata": {},
     "output_type": "execute_result"
    }
   ],
   "source": [
    "df[['a','b']].apply(data_sum,axis=1)"
   ]
  },
  {
   "cell_type": "code",
   "execution_count": null,
   "id": "955ee66e-b8d5-458e-bb5e-fac144de2932",
   "metadata": {
    "jupyter": {
     "source_hidden": true
    },
    "tags": []
   },
   "outputs": [],
   "source": []
  },
  {
   "cell_type": "code",
   "execution_count": null,
   "id": "9c45e4d8-bec7-444a-98c4-4ffc91bdf80e",
   "metadata": {},
   "outputs": [],
   "source": []
  },
  {
   "cell_type": "code",
   "execution_count": null,
   "id": "ba2954c8-2ee3-421a-ada6-09a360468928",
   "metadata": {},
   "outputs": [],
   "source": []
  },
  {
   "cell_type": "code",
   "execution_count": null,
   "id": "471cf538-5624-4ee1-ba00-be20a9d41011",
   "metadata": {},
   "outputs": [],
   "source": []
  },
  {
   "cell_type": "code",
   "execution_count": null,
   "id": "e6166690-72e9-41b0-9a71-c5314555f5f1",
   "metadata": {},
   "outputs": [],
   "source": []
  },
  {
   "cell_type": "code",
   "execution_count": null,
   "id": "489b756d-f8c5-4ea7-8bf0-441d084be6df",
   "metadata": {},
   "outputs": [],
   "source": []
  },
  {
   "cell_type": "code",
   "execution_count": null,
   "id": "0915b25a-7f5c-44ab-9448-f6f7639be5ba",
   "metadata": {},
   "outputs": [],
   "source": []
  },
  {
   "cell_type": "code",
   "execution_count": null,
   "id": "8718ba6f-a788-494d-909a-88babd56a856",
   "metadata": {},
   "outputs": [],
   "source": []
  },
  {
   "cell_type": "code",
   "execution_count": null,
   "id": "8b7a9a65-86c7-4a49-9d7e-35c1e4b266b9",
   "metadata": {},
   "outputs": [],
   "source": []
  },
  {
   "cell_type": "code",
   "execution_count": null,
   "id": "5b8582ce-0c68-4a3a-8e74-38b75796f78b",
   "metadata": {},
   "outputs": [],
   "source": []
  },
  {
   "cell_type": "code",
   "execution_count": null,
   "id": "26d94902-df92-4d67-b10a-2e8307cccfce",
   "metadata": {},
   "outputs": [],
   "source": []
  },
  {
   "cell_type": "code",
   "execution_count": null,
   "id": "34c5d90c-f360-4f1e-be0f-a2667645c393",
   "metadata": {},
   "outputs": [],
   "source": []
  }
 ],
 "metadata": {
  "kernelspec": {
   "display_name": "Python 3 (ipykernel)",
   "language": "python",
   "name": "python3"
  },
  "language_info": {
   "codemirror_mode": {
    "name": "ipython",
    "version": 3
   },
   "file_extension": ".py",
   "mimetype": "text/x-python",
   "name": "python",
   "nbconvert_exporter": "python",
   "pygments_lexer": "ipython3",
   "version": "3.11.1"
  }
 },
 "nbformat": 4,
 "nbformat_minor": 5
}
