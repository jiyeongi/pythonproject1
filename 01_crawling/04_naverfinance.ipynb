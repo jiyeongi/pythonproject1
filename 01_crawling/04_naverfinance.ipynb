{
 "cells": [
  {
   "cell_type": "code",
   "execution_count": 15,
   "id": "913546a7-1f31-426c-83a8-7fcfd73f11d7",
   "metadata": {
    "tags": []
   },
   "outputs": [],
   "source": [
    "import requests\n",
    "from urllib import request\n",
    "from bs4 import BeautifulSoup\n",
    "import urllib.request as req"
   ]
  },
  {
   "cell_type": "code",
   "execution_count": 16,
   "id": "711f383d-ed80-4b48-818e-9e7f631fe73a",
   "metadata": {
    "tags": []
   },
   "outputs": [
    {
     "name": "stdout",
     "output_type": "stream",
     "text": [
      "1 미국 USD 1,315.00\n",
      "2 일본 JPY(100엔) 985.35\n",
      "3 유럽연합 EUR 1,424.67\n",
      "4 중국 CNY 190.81\n",
      "5 달러/일본 엔 132.7700\n",
      "6 유로/달러 1.0868\n",
      "7 영국 파운드/달러 1.2345\n",
      "8 달러인덱스 102.1800\n",
      "9 WTI 75.67\n",
      "10 휘발유 1595.98\n",
      "11 국제 금 1986.2\n",
      "12 국내 금 82907.07\n"
     ]
    },
    {
     "ename": "NameError",
     "evalue": "name 'indexError' is not defined",
     "output_type": "error",
     "traceback": [
      "\u001b[1;31m---------------------------------------------------------------------------\u001b[0m",
      "\u001b[1;31mIndexError\u001b[0m                                Traceback (most recent call last)",
      "Cell \u001b[1;32mIn[16], line 10\u001b[0m\n\u001b[0;32m      9\u001b[0m \u001b[38;5;28;01mtry\u001b[39;00m : \n\u001b[1;32m---> 10\u001b[0m     \u001b[38;5;28mprint\u001b[39m(i\u001b[38;5;241m+\u001b[39m\u001b[38;5;241m1\u001b[39m, \u001b[43mname_nation\u001b[49m\u001b[43m[\u001b[49m\u001b[43mi\u001b[49m\u001b[43m]\u001b[49m\u001b[38;5;241m.\u001b[39mtext, name_price[i]\u001b[38;5;241m.\u001b[39mtext)\n\u001b[0;32m     11\u001b[0m     i\u001b[38;5;241m=\u001b[39mi\u001b[38;5;241m+\u001b[39m\u001b[38;5;241m1\u001b[39m\n",
      "\u001b[1;31mIndexError\u001b[0m: list index out of range",
      "\nDuring handling of the above exception, another exception occurred:\n",
      "\u001b[1;31mNameError\u001b[0m                                 Traceback (most recent call last)",
      "Cell \u001b[1;32mIn[16], line 12\u001b[0m\n\u001b[0;32m     10\u001b[0m     \u001b[38;5;28mprint\u001b[39m(i\u001b[38;5;241m+\u001b[39m\u001b[38;5;241m1\u001b[39m, name_nation[i]\u001b[38;5;241m.\u001b[39mtext, name_price[i]\u001b[38;5;241m.\u001b[39mtext)\n\u001b[0;32m     11\u001b[0m     i\u001b[38;5;241m=\u001b[39mi\u001b[38;5;241m+\u001b[39m\u001b[38;5;241m1\u001b[39m\n\u001b[1;32m---> 12\u001b[0m \u001b[38;5;28;01mexcept\u001b[39;00m \u001b[43mindexError\u001b[49m:\n\u001b[0;32m     13\u001b[0m     \u001b[38;5;28;01mpass\u001b[39;00m\n",
      "\u001b[1;31mNameError\u001b[0m: name 'indexError' is not defined"
     ]
    }
   ],
   "source": [
    "url=\"https://finance.naver.com/marketindex/\"\n",
    "res= req.urlopen(url)\n",
    "soup = BeautifulSoup(res,\"html.parser\",from_encoding='euc_kr')\n",
    "\n",
    "name_nation=soup.select('h3.h_lst > span.blind')\n",
    "name_price=soup.select('span.value')\n",
    "i=0\n",
    "for c_list in soup : \n",
    "    try : \n",
    "        print(i+1, name_nation[i].text, name_price[i].text)\n",
    "        i=i+1\n",
    "    except indexError:\n",
    "        pass"
   ]
  },
  {
   "cell_type": "raw",
   "id": "3db5a4f7-ad0e-4ca2-b3f5-80edf92f1ac7",
   "metadata": {},
   "source": [
    "https://finance.naver.com/marketindex/exchangeList.naver"
   ]
  },
  {
   "cell_type": "code",
   "execution_count": 1,
   "id": "ffb0f657-38e0-4134-a50a-008cd0ea110d",
   "metadata": {
    "tags": []
   },
   "outputs": [],
   "source": [
    "import requests\n",
    "from bs4 import BeautifulSoup"
   ]
  },
  {
   "cell_type": "code",
   "execution_count": 13,
   "id": "bf0eb732-8df0-41bf-8bb0-dcb8f9f2be01",
   "metadata": {
    "tags": []
   },
   "outputs": [
    {
     "name": "stdout",
     "output_type": "stream",
     "text": [
      "58 58\n",
      "[('미국 USD', 1315.0), ('유럽연합 EUR', 1424.67), ('일본 JPY (100엔)', 985.35), ('중국 CNY', 190.81), ('홍콩 HKD', 167.52), ('대만 TWD', 42.93), ('영국 GBP', 1619.69), ('오만 OMR', 3415.67), ('캐나다 CAD', 974.43), ('스위스 CHF', 1432.62), ('스웨덴 SEK', 126.54), ('호주 AUD', 880.26), ('뉴질랜드 NZD', 819.51), ('체코 CZK', 60.72), ('칠레 CLP', 1.65), ('튀르키예 TRY', 68.47), ('몽골 MNT', 0.37), ('이스라엘 ILS', 365.21), ('덴마크 DKK', 191.24), ('노르웨이 NOK', 126.21), ('사우디아라비아 SAR', 350.35), ('쿠웨이트 KWD', 4283.11), ('바레인 BHD', 3488.06), ('아랍에미리트 AED', 358.06), ('요르단 JOD', 1853.81), ('이집트 EGP', 42.56), ('태국 THB', 38.22), ('싱가포르 SGD', 986.98), ('말레이시아 MYR', 297.46), ('인도네시아 IDR 100', 8.8), ('카타르 QAR', 358.28), ('카자흐스탄 KZT', 2.9), ('브루나이 BND', 986.98), ('인도 INR', 15.96), ('파키스탄 PKR', 4.62), ('방글라데시 BDT', 12.49), ('필리핀 PHP', 24.04), ('멕시코 MXN', 73.05), ('브라질 BRL', 259.69), ('베트남 VND 100', 5.61), ('남아프리카 공화국 ZAR', 73.38), ('러시아 RUB', 16.93), ('헝가리 HUF', 3.74), ('폴란드 PLN', 304.52), ('스리랑카 LKR', 4.05), ('알제리 DZD', 9.67), ('케냐 KES', 9.92), ('콜롬비아 COP', 0.28), ('탄자니아 TZS', 0.56), ('네팔 NPR', 9.98), ('루마니아 RON', 288.23), ('리비아 LYD', 275.1), ('마카오 MOP', 162.65), ('미얀마 MMK', 0.63), ('에티오피아 ETB', 24.17), ('우즈베키스탄 UZS', 0.12), ('캄보디아 KHR', 0.32), ('피지 FJD', 594.51)]\n"
     ]
    }
   ],
   "source": [
    "url = 'https://finance.naver.com/marketindex/exchangeList.naver'\n",
    "r= requests.get(url).text\n",
    "soup=BeautifulSoup(r,'lxml')\n",
    "name=[]\n",
    "price=[]\n",
    "\n",
    "data=soup.select('td.tit > a')\n",
    "# print(data)\n",
    "for item in data:\n",
    "    # print(item.string.strip())\n",
    "    name.append(item.string.strip())\n",
    "# 매매기준율빼기 \n",
    "                \n",
    "data = soup.select('td.sale')\n",
    "# print(data)\n",
    "for item in data :\n",
    "    price.append(float(item.string.replace(',','')))\n",
    "# print(price)\n",
    "print(len(name),len(price))\n",
    "items=list(zip(name,price))\n",
    "print(items)"
   ]
  },
  {
   "cell_type": "code",
   "execution_count": null,
   "id": "e1c017bb-bf63-481d-a575-870b6860fcf7",
   "metadata": {},
   "outputs": [],
   "source": []
  },
  {
   "cell_type": "code",
   "execution_count": null,
   "id": "96ffd08d-1a18-4546-8c48-d031a51191f1",
   "metadata": {},
   "outputs": [],
   "source": []
  },
  {
   "cell_type": "code",
   "execution_count": null,
   "id": "81e57a55-8b4a-4430-a3cc-b6cfe58c04a9",
   "metadata": {},
   "outputs": [],
   "source": []
  },
  {
   "cell_type": "code",
   "execution_count": null,
   "id": "2297a20e-8d4f-49b3-8ef5-edf1403aaade",
   "metadata": {},
   "outputs": [],
   "source": []
  }
 ],
 "metadata": {
  "kernelspec": {
   "display_name": "Python 3 (ipykernel)",
   "language": "python",
   "name": "python3"
  },
  "language_info": {
   "codemirror_mode": {
    "name": "ipython",
    "version": 3
   },
   "file_extension": ".py",
   "mimetype": "text/x-python",
   "name": "python",
   "nbconvert_exporter": "python",
   "pygments_lexer": "ipython3",
   "version": "3.11.1"
  }
 },
 "nbformat": 4,
 "nbformat_minor": 5
}
