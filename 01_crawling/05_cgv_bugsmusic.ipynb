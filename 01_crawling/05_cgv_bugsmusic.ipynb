{
 "cells": [
  {
   "cell_type": "code",
   "execution_count": 15,
   "id": "f6646a1c-efdd-41a0-a7ee-ded5448a3c81",
   "metadata": {
    "tags": []
   },
   "outputs": [],
   "source": [
    "import requests\n",
    "from bs4 import BeautifulSoup\n",
    "from urllib import request\n"
   ]
  },
  {
   "cell_type": "code",
   "execution_count": null,
   "id": "cf24d283-265c-45c1-8c16-5bebb77fb360",
   "metadata": {},
   "outputs": [],
   "source": [
    "#cgv 무비차트크롤링 영화제목 크롤링 "
   ]
  },
  {
   "cell_type": "code",
   "execution_count": 19,
   "id": "12c77016-2fff-4d76-9632-64013b4279f2",
   "metadata": {
    "tags": []
   },
   "outputs": [
    {
     "name": "stdout",
     "output_type": "stream",
     "text": [
      "더 퍼스트 슬램덩크\n",
      "스즈메의 문단속\n",
      "던전 앤 드래곤-도적들의 명예\n",
      "아임 히어로 더 파이널\n",
      "파벨만스\n",
      "상견니\n",
      "찬란한 나의 복수\n",
      "오토라는 남자\n",
      "웅남이\n",
      "흐르다\n",
      "엘 카미노\n",
      "소울메이트\n",
      "귀멸의 칼날-상현집결, 그리고 도공 마을로\n",
      "이니셰린의 밴시\n",
      "에브리씽 에브리웨어 올 앳 원스+\n",
      "패왕별희 디 오리지널\n",
      "더 웨일\n",
      "멍뭉이\n",
      "[알베르게다이닝]엘 카미노(GV)\n"
     ]
    }
   ],
   "source": [
    "url='http://www.cgv.co.kr/movies/'\n",
    "response=request.urlopen(url)\n",
    "soup=BeautifulSoup(response,'lxml')\n",
    "# print(soup)\n",
    "result=soup.select('strong.title')\n",
    "# print(result)\n",
    "for item in result :\n",
    "    print(item.text)\n"
   ]
  },
  {
   "cell_type": "code",
   "execution_count": null,
   "id": "de380507-8dc0-42fe-b6d0-2dab1d4559a0",
   "metadata": {},
   "outputs": [],
   "source": [
    "# 벅스뮤직크롤링 벅스차트, 아티스트 크롤링"
   ]
  },
  {
   "cell_type": "raw",
   "id": "a7e6fb46-c58f-430f-b715-4382ff4fb92f",
   "metadata": {},
   "source": [
    "https://music.bugs.co.kr/chart"
   ]
  },
  {
   "cell_type": "code",
   "execution_count": 9,
   "id": "c11142a6-efd1-4a89-a474-4598cb62701f",
   "metadata": {
    "tags": []
   },
   "outputs": [
    {
     "ename": "NameError",
     "evalue": "name 'urlopen' is not defined",
     "output_type": "error",
     "traceback": [
      "\u001b[1;31m---------------------------------------------------------------------------\u001b[0m",
      "\u001b[1;31mNameError\u001b[0m                                 Traceback (most recent call last)",
      "Cell \u001b[1;32mIn[9], line 1\u001b[0m\n\u001b[1;32m----> 1\u001b[0m url\u001b[38;5;241m=\u001b[39m\u001b[43murlopen\u001b[49m(\u001b[38;5;124m\"\u001b[39m\u001b[38;5;124mhttps://music.bugs.co.kr/chart\u001b[39m\u001b[38;5;124m\"\u001b[39m)\n\u001b[0;32m      2\u001b[0m soup\u001b[38;5;241m=\u001b[39mBeatifulSoup\n\u001b[0;32m      3\u001b[0m cnt_artist\u001b[38;5;241m=\u001b[39m\u001b[38;5;241m0\u001b[39m\n",
      "\u001b[1;31mNameError\u001b[0m: name 'urlopen' is not defined"
     ]
    }
   ],
   "source": [
    "url=urlopen(\"https://music.bugs.co.kr/chart\")\n",
    "soup=BeatifulSoup\n",
    "cnt_artist=0\n",
    "cnt_title=0\n",
    "\n",
    "for link in soup.find_all(name='p', atters={\"class\":\"artist\"}):\n",
    "                          cnt_artist+=1\n",
    "                          print(str(cnt_artist)+\"위\")\n",
    "                          print(\"아티스트:\"+link.find('a').text)\n",
    "print(\"-------------\")\n",
    "\n",
    "for link2 in soup.find_all(name=\"p\",attrs={\"class\":\"title\"}):\n",
    "                          cnt_title+=1\n",
    "                          print(str(cnt_title)+\"위\")\n",
    "                          print(\"노래제목 : \" +link2.text)\n",
    "\n",
    "                                "
   ]
  },
  {
   "cell_type": "code",
   "execution_count": 20,
   "id": "414d707e-7344-4741-9d3c-42b1e671c6dc",
   "metadata": {
    "tags": []
   },
   "outputs": [],
   "source": [
    "import requests\n",
    "from bs4 import BeautifulSoup\n",
    "from urllib import request"
   ]
  },
  {
   "cell_type": "code",
   "execution_count": 40,
   "id": "787836b0-ff66-4f75-af45-abf0e5056604",
   "metadata": {
    "tags": []
   },
   "outputs": [
    {
     "name": "stdout",
     "output_type": "stream",
     "text": [
      "100\n"
     ]
    }
   ],
   "source": [
    "url='https://music.bugs.co.kr/chart'\n",
    "response=request.urlopen(url)\n",
    "soup=BeautifulSoup(response,'lxml')\n",
    "\n",
    "title_list=[]\n",
    "artist_list=[]\n",
    "\n",
    "title=soup.select('p.title>a')\n",
    "for item in title:\n",
    "    # print(item.string)\n",
    "    title_list.append(item.string)\n",
    "\n",
    "artist=soup.select('p.artist')\n",
    "print(len(artist))\n",
    "for item in artist :\n",
    "    # print(item)\n",
    "    # print(item.text.strip())\n",
    "    # print('-------------------------------')\n",
    "    artist_list.append(item.text.strip())\n",
    "\n"
   ]
  },
  {
   "cell_type": "code",
   "execution_count": 41,
   "id": "93a4ce35-295b-40ed-a43b-ffce397d15f4",
   "metadata": {
    "tags": []
   },
   "outputs": [
    {
     "data": {
      "text/plain": [
       "(100, 100)"
      ]
     },
     "execution_count": 41,
     "metadata": {},
     "output_type": "execute_result"
    }
   ],
   "source": [
    "len(title_list),len(artist_list)"
   ]
  },
  {
   "cell_type": "code",
   "execution_count": 42,
   "id": "aca4bccd-db32-481f-ba2d-432798f85131",
   "metadata": {
    "collapsed": true,
    "jupyter": {
     "outputs_hidden": true
    },
    "tags": []
   },
   "outputs": [
    {
     "data": {
      "text/plain": [
       "['IVE (아이브)',\n",
       " '지수(JISOO)',\n",
       " 'NewJeans',\n",
       " 'NewJeans',\n",
       " 'NewJeans',\n",
       " 'STAYC(스테이씨)',\n",
       " 'NMIXX',\n",
       " 'NewJeans',\n",
       " 'H1-KEY (하이키)',\n",
       " '지올팍(Zior Park)',\n",
       " 'NewJeans',\n",
       " '부석순(SEVENTEEN)',\n",
       " '주주 시크릿',\n",
       " 'Charlie Puth(찰리 푸스)',\n",
       " '윤하(Younha/ユンナ)',\n",
       " 'LE SSERAFIM (르세라핌)',\n",
       " 'IVE (아이브)',\n",
       " 'IVE (아이브)',\n",
       " 'STAYC(스테이씨)',\n",
       " 'DK(디셈버)',\n",
       " 'Charlie Puth(찰리 푸스)',\n",
       " 'DAY6 (데이식스)',\n",
       " '태양',\n",
       " '윤하(Younha/ユンナ)',\n",
       " '우디(Woody)',\n",
       " 'Christopher(크리스토퍼)\\n\\n\\r\\nChristopher(크리스토퍼)',\n",
       " '지민',\n",
       " 'NMIXX',\n",
       " 'NCT DREAM',\n",
       " '멜로망스(MeloMance)',\n",
       " 'BLACKPINK',\n",
       " 'Sam Smith(샘 스미스)\\n\\n\\r\\nSam Smith(샘 스미스)',\n",
       " 'BLACKPINK',\n",
       " 'LE SSERAFIM (르세라핌)',\n",
       " '성시경',\n",
       " 'NewJeans',\n",
       " 'Charlie Puth(찰리 푸스)',\n",
       " '버스커 버스커(Busker Busker)',\n",
       " '하이포(HIGH4)\\n\\n\\r\\n하이포(HIGH4)',\n",
       " 'The Kid LAROI\\n\\n\\r\\nThe Kid LAROI',\n",
       " 'Charlie Puth(찰리 푸스)',\n",
       " 'IVE (아이브)',\n",
       " '우디(Woody)',\n",
       " '카라(Kara)',\n",
       " 'Red Velvet (레드벨벳)',\n",
       " '10CM',\n",
       " '(여자)아이들',\n",
       " 'tripleS (트리플에스)',\n",
       " 'BIG Naughty (서동현)',\n",
       " 'Crush',\n",
       " '(여자)아이들',\n",
       " '경서예지\\n\\n\\r\\n경서예지',\n",
       " '#안녕',\n",
       " 'Justin Bieber(저스틴 비버)',\n",
       " '폴킴(Paul Kim)',\n",
       " '지코 (ZICO)',\n",
       " '이영지',\n",
       " '테이(Tei)',\n",
       " 'WSG워너비 (가야G)',\n",
       " '정국\\n\\n\\r\\n정국',\n",
       " '김민석 (멜로망스)',\n",
       " 'TWICE (트와이스)',\n",
       " '아이유(IU)',\n",
       " 'LE SSERAFIM (르세라핌)',\n",
       " '잔나비',\n",
       " 'WSG워너비 (가야G)',\n",
       " '방탄소년단',\n",
       " '임영웅',\n",
       " 'Anne-Marie(앤 마리)\\n\\n\\r\\nAnne-Marie(앤 마리)',\n",
       " '태연 (TAEYEON)',\n",
       " \"BE'O (비오)\",\n",
       " 'BIGBANG (빅뱅)',\n",
       " 'aespa',\n",
       " '경서',\n",
       " '볼빨간사춘기',\n",
       " 'BIG Naughty (서동현)',\n",
       " 'NewJeans',\n",
       " \"BE'O (비오)\",\n",
       " 'FIFTY FIFTY',\n",
       " '주호',\n",
       " 'WSG워너비(4FIRE)',\n",
       " '최유리',\n",
       " '지수(JISOO)',\n",
       " 'Charlie Puth(찰리 푸스)\\n\\n\\r\\nCharlie Puth(찰리 푸스)',\n",
       " '방탄소년단',\n",
       " '다비치',\n",
       " 'OneRepublic(원리퍼블릭)',\n",
       " 'aespa',\n",
       " 'Meghan Trainor(메간 트레이너)',\n",
       " '10CM\\n\\n\\r\\n10CM',\n",
       " '강민경\\n\\n\\r\\n강민경',\n",
       " '이홍기 (FT아일랜드)',\n",
       " '신예영',\n",
       " '송하예',\n",
       " 'Taylor Swift(테일러 스위프트)',\n",
       " '임한별',\n",
       " '지아(Zia)',\n",
       " '지민',\n",
       " '태연 (TAEYEON)',\n",
       " '임한별']"
      ]
     },
     "execution_count": 42,
     "metadata": {},
     "output_type": "execute_result"
    }
   ],
   "source": [
    "artist_list"
   ]
  },
  {
   "cell_type": "code",
   "execution_count": 47,
   "id": "969597a4-d0e4-4bcf-abcd-938b95e14026",
   "metadata": {
    "tags": []
   },
   "outputs": [],
   "source": [
    "artist_list_final=[]\n",
    "for item in artist_list:\n",
    "#     print(item.replace('\\n\\n\\r\\n',','))\n",
    "    \n",
    "#     print(item.replace('\\n\\n\\r\\n',',').split(',')[0])\n",
    "    artist_list_final.append(item.replace('\\n\\n\\r\\n',',').split(',')[0])"
   ]
  },
  {
   "cell_type": "code",
   "execution_count": 46,
   "id": "e5910235-e06a-43e5-90fd-4ba0a6c4a9cc",
   "metadata": {
    "collapsed": true,
    "jupyter": {
     "outputs_hidden": true
    },
    "tags": []
   },
   "outputs": [
    {
     "name": "stdout",
     "output_type": "stream",
     "text": [
      "[('Kitsch', 'IVE (아이브)'), ('꽃', '지수(JISOO)'), ('Zero', 'NewJeans'), ('Ditto', 'NewJeans'), ('Hype Boy', 'NewJeans'), ('Teddy Bear', 'STAYC(스테이씨)'), ('Love Me Like This', 'NMIXX'), ('OMG', 'NewJeans'), ('건물 사이에 피어난 장미 (Rose Blossom)', 'H1-KEY (하이키)'), ('CHRISTIAN', '지올팍(Zior Park)'), ('Attention', 'NewJeans'), ('파이팅 해야지 (Feat. 이영지)', '부석순(SEVENTEEN)'), ('밤이 무서워요 (Lonely Night)', '주주 시크릿'), ('I Don’t Think That I Like Her', 'Charlie Puth(찰리 푸스)'), ('사건의 지평선', '윤하(Younha/ユンナ)'), ('ANTIFRAGILE', 'LE SSERAFIM (르세라핌)'), ('After LIKE', 'IVE (아이브)'), ('LOVE DIVE', 'IVE (아이브)'), ('Poppy (Korean Ver.)', 'STAYC(스테이씨)'), ('심(心)', 'DK(디셈버)'), ('Dangerously', 'Charlie Puth(찰리 푸스)'), ('한 페이지가 될 수 있게', 'DAY6 (데이식스)'), ('VIBE (feat. Jimin of BTS)', '태양'), ('오르트구름', '윤하(Younha/ユンナ)'), ('Nostalgia', '우디(Woody)'), ('When I Get Old', 'Christopher(크리스토퍼)'), ('Like Crazy', '지민'), ('Young, Dumb, Stupid', 'NMIXX'), ('Candy', 'NCT DREAM'), ('사랑인가 봐', '멜로망스(MeloMance)'), ('Shut Down', 'BLACKPINK'), ('Unholy', 'Sam Smith(샘 스미스)'), ('Pink Venom', 'BLACKPINK'), ('FEARLESS', 'LE SSERAFIM (르세라핌)'), ('너의 모든 순간', '성시경'), ('Cookie', 'NewJeans'), (\"That's Hilarious\", 'Charlie Puth(찰리 푸스)'), ('벚꽃 엔딩', '버스커 버스커(Busker Busker)'), ('봄 사랑 벚꽃 말고', '하이포(HIGH4)'), ('STAY', 'The Kid LAROI'), ('That’s Not How This Works (feat. Dan + Shay)', 'Charlie Puth(찰리 푸스)'), ('ELEVEN', 'IVE (아이브)'), ('Say I Love You', '우디(Woody)'), ('WHEN I MOVE', '카라(Kara)'), ('Feel My Rhythm', 'Red Velvet (레드벨벳)'), ('그라데이션', '10CM'), ('Nxde', '(여자)아이들'), ('Rising', 'tripleS (트리플에스)'), ('정이라고 하자 (Feat. 10CM)', 'BIG Naughty (서동현)'), ('Rush Hour (Feat. j-hope of BTS)', 'Crush'), ('TOMBOY', '(여자)아이들'), ('다정히 내 이름을 부르면', '경서예지'), ('해요 (2022)', '#안녕'), ('Off My Face', 'Justin Bieber(저스틴 비버)'), ('모든 날, 모든 순간 (Every day, Every Moment)', '폴킴(Paul Kim)'), ('새삥 (Prod. ZICO) (Feat. 호미들)', '지코 (ZICO)'), ('NOT SORRY (Feat. pH-1) (Prod. by Slom)', '이영지'), ('Monologue', '테이(Tei)'), ('그때 그 순간 그대로 (그그그)', 'WSG워너비 (가야G)'), ('Dreamers [Music from the FIFA World Cup Qatar 2022 Official Soundtrack] (feat. FIFA Sound)', '정국'), ('취중고백', '김민석 (멜로망스)'), ('SET ME FREE', 'TWICE (트와이스)'), ('strawberry moon', '아이유(IU)'), ('Impurities', 'LE SSERAFIM (르세라핌)'), ('주저하는 연인들을 위해', '잔나비'), ('결국엔 너에게 닿아서', 'WSG워너비 (가야G)'), ('봄날', '방탄소년단'), ('사랑은 늘 도망가', '임영웅'), ('Expectations', 'Anne-Marie(앤 마리)'), ('INVU', '태연 (TAEYEON)'), ('LOVE me', \"BE'O (비오)\"), ('봄여름가을겨울 (Still Life)', 'BIGBANG (빅뱅)'), ('도깨비불 (Illusion)', 'aespa'), ('나의 X에게', '경서'), ('Love story', '볼빨간사춘기'), ('친구로 지내다 보면 (Feat. 김민석 of 멜로망스)', 'BIG Naughty (서동현)'), ('Hurt', 'NewJeans'), ('자격지심 (Feat. ZICO)', \"BE'O (비오)\"), ('Cupid', 'FIFTY FIFTY'), ('내가 아니라도', '주호'), ('보고싶었어', 'WSG워너비(4FIRE)'), ('그댄 행복에 살텐데 (2022)', '최유리'), ('All Eyes On Me', '지수(JISOO)'), ('Left and Right (Feat. Jung Kook of BTS)', 'Charlie Puth(찰리 푸스)'), ('Dynamite', '방탄소년단'), ('팡파레', '다비치'), (\"I Ain't Worried\", 'OneRepublic(원리퍼블릭)'), ('Next Level', 'aespa'), ('Made You Look', 'Meghan Trainor(메간 트레이너)'), ('딱 10CM만', '10CM'), ('우린 그렇게 사랑해서', '강민경'), ('아모르 파티', '이홍기 (FT아일랜드)'), ('마지막 사랑', '신예영'), ('그대를 알고', '송하예'), ('Anti-Hero', 'Taylor Swift(테일러 스위프트)'), ('사랑하지 않아서 그랬어', '임한별'), ('사랑하기 싫어', '지아(Zia)'), ('Set Me Free Pt.2', '지민'), ('혼자서 걸어요 (Prod. by 나얼)', '태연 (TAEYEON)'), ('떠나보낼 준비해 둘걸 그랬어', '임한별')]\n"
     ]
    }
   ],
   "source": [
    "result=list(zip(title_list,artist_list_final))\n",
    "print(result)"
   ]
  },
  {
   "cell_type": "raw",
   "id": "85bf1ae8-8900-4c8f-8c90-66f016b6f6bb",
   "metadata": {
    "tags": []
   },
   "source": [
    "https://www.starbucks.co.kr/store/store_map.do\n",
    "<strong data-store=\"684\" data-yn=\"N\" data-name=\"광주하남\" data-my_siren_order_store_yn=\"N\">광주하남  </strong>"
   ]
  },
  {
   "cell_type": "code",
   "execution_count": 50,
   "id": "74c197ef-f8c0-4365-8737-0b4680424ceb",
   "metadata": {
    "tags": []
   },
   "outputs": [],
   "source": [
    "import requests\n",
    "from bs4 import BeautifulSoup\n",
    "from urllib import request\n",
    "import time"
   ]
  },
  {
   "cell_type": "code",
   "execution_count": 60,
   "id": "84ea006d-3a1a-4227-8dde-09465505ef78",
   "metadata": {
    "tags": []
   },
   "outputs": [
    {
     "name": "stdout",
     "output_type": "stream",
     "text": [
      "[<ul class=\"quickSearchResultBox\">\n",
      "</ul>]\n"
     ]
    }
   ],
   "source": [
    "url='https://www.starbucks.co.kr/store/store_map.do'\n",
    "\n",
    "r=request.urlopen(url)\n",
    "# print(r.read().decode('utf8'))\n",
    "soup=BeautifulSoup(r,'lxml')\n",
    "# print(soup)\n",
    "print(soup.select('ul.quickSearchResultBox'))\n",
    "\n",
    "\n",
    "\n",
    "\n",
    "\n"
   ]
  },
  {
   "cell_type": "code",
   "execution_count": 61,
   "id": "223df4cd-af8a-47f5-8936-2a9ee4597e15",
   "metadata": {
    "collapsed": true,
    "jupyter": {
     "outputs_hidden": true
    },
    "tags": []
   },
   "outputs": [
    {
     "name": "stdout",
     "output_type": "stream",
     "text": [
      "Collecting selenium\n",
      "  Downloading selenium-4.8.3-py3-none-any.whl (6.5 MB)\n",
      "     ---------------------------------------- 0.0/6.5 MB ? eta -:--:--\n",
      "     -- ------------------------------------- 0.5/6.5 MB 9.6 MB/s eta 0:00:01\n",
      "     ----- ---------------------------------- 0.8/6.5 MB 8.6 MB/s eta 0:00:01\n",
      "     -------- ------------------------------- 1.4/6.5 MB 9.7 MB/s eta 0:00:01\n",
      "     ----------- ---------------------------- 1.9/6.5 MB 9.9 MB/s eta 0:00:01\n",
      "     -------------- ------------------------- 2.4/6.5 MB 10.2 MB/s eta 0:00:01\n",
      "     ----------------- ---------------------- 2.9/6.5 MB 10.4 MB/s eta 0:00:01\n",
      "     --------------------- ------------------ 3.5/6.5 MB 10.6 MB/s eta 0:00:01\n",
      "     ------------------------ --------------- 4.0/6.5 MB 10.6 MB/s eta 0:00:01\n",
      "     --------------------------- ------------ 4.5/6.5 MB 10.7 MB/s eta 0:00:01\n",
      "     ------------------------------ --------- 5.0/6.5 MB 10.7 MB/s eta 0:00:01\n",
      "     ---------------------------------- ----- 5.6/6.5 MB 10.8 MB/s eta 0:00:01\n",
      "     ------------------------------------ --- 6.0/6.5 MB 10.9 MB/s eta 0:00:01\n",
      "     ---------------------------------------  6.4/6.5 MB 10.8 MB/s eta 0:00:01\n",
      "     ---------------------------------------- 6.5/6.5 MB 10.2 MB/s eta 0:00:00\n",
      "Requirement already satisfied: urllib3[socks]~=1.26 in c:\\users\\admin\\appdata\\local\\programs\\python\\python311\\lib\\site-packages (from selenium) (1.26.14)\n",
      "Collecting trio~=0.17\n",
      "  Downloading trio-0.22.0-py3-none-any.whl (384 kB)\n",
      "     ---------------------------------------- 0.0/384.9 kB ? eta -:--:--\n",
      "     -------------------------------------- 384.9/384.9 kB 8.1 MB/s eta 0:00:00\n",
      "Collecting trio-websocket~=0.9\n",
      "  Downloading trio_websocket-0.10.2-py3-none-any.whl (17 kB)\n",
      "Requirement already satisfied: certifi>=2021.10.8 in c:\\users\\admin\\appdata\\local\\programs\\python\\python311\\lib\\site-packages (from selenium) (2022.12.7)\n",
      "Requirement already satisfied: attrs>=19.2.0 in c:\\users\\admin\\appdata\\local\\programs\\python\\python311\\lib\\site-packages (from trio~=0.17->selenium) (22.2.0)\n",
      "Collecting sortedcontainers\n",
      "  Downloading sortedcontainers-2.4.0-py2.py3-none-any.whl (29 kB)\n",
      "Collecting async-generator>=1.9\n",
      "  Downloading async_generator-1.10-py3-none-any.whl (18 kB)\n",
      "Requirement already satisfied: idna in c:\\users\\admin\\appdata\\local\\programs\\python\\python311\\lib\\site-packages (from trio~=0.17->selenium) (3.4)\n",
      "Collecting outcome\n",
      "  Downloading outcome-1.2.0-py2.py3-none-any.whl (9.7 kB)\n",
      "Requirement already satisfied: sniffio in c:\\users\\admin\\appdata\\local\\programs\\python\\python311\\lib\\site-packages (from trio~=0.17->selenium) (1.3.0)\n",
      "Requirement already satisfied: cffi>=1.14 in c:\\users\\admin\\appdata\\local\\programs\\python\\python311\\lib\\site-packages (from trio~=0.17->selenium) (1.15.1)\n",
      "Collecting exceptiongroup\n",
      "  Downloading exceptiongroup-1.1.1-py3-none-any.whl (14 kB)\n",
      "Collecting wsproto>=0.14\n",
      "  Downloading wsproto-1.2.0-py3-none-any.whl (24 kB)\n",
      "Collecting PySocks!=1.5.7,<2.0,>=1.5.6\n",
      "  Downloading PySocks-1.7.1-py3-none-any.whl (16 kB)\n",
      "Requirement already satisfied: pycparser in c:\\users\\admin\\appdata\\local\\programs\\python\\python311\\lib\\site-packages (from cffi>=1.14->trio~=0.17->selenium) (2.21)\n",
      "Collecting h11<1,>=0.9.0\n",
      "  Downloading h11-0.14.0-py3-none-any.whl (58 kB)\n",
      "     ---------------------------------------- 0.0/58.3 kB ? eta -:--:--\n",
      "     ---------------------------------------- 58.3/58.3 kB ? eta 0:00:00\n",
      "Installing collected packages: sortedcontainers, PySocks, outcome, h11, exceptiongroup, async-generator, wsproto, trio, trio-websocket, selenium\n",
      "Successfully installed PySocks-1.7.1 async-generator-1.10 exceptiongroup-1.1.1 h11-0.14.0 outcome-1.2.0 selenium-4.8.3 sortedcontainers-2.4.0 trio-0.22.0 trio-websocket-0.10.2 wsproto-1.2.0\n"
     ]
    }
   ],
   "source": [
    "!pip install selenium"
   ]
  },
  {
   "cell_type": "code",
   "execution_count": 62,
   "id": "898e528e-d7b5-4f3d-a254-e5b4016a29b4",
   "metadata": {
    "tags": []
   },
   "outputs": [],
   "source": [
    "from selenium import webdriver\n",
    "import time"
   ]
  },
  {
   "cell_type": "code",
   "execution_count": 63,
   "id": "d9949ba4-5e96-4979-869d-6d551fb670f2",
   "metadata": {
    "tags": []
   },
   "outputs": [
    {
     "name": "stdout",
     "output_type": "stream",
     "text": [
      "[<ul class=\"quickSearchResultBox\">\n",
      "</ul>]\n"
     ]
    }
   ],
   "source": [
    "driver=webdriver.Chrome()\n",
    "driver.get(url)\n",
    "\n",
    "page=driver.page_source\n",
    "soup=BeautifulSoup(page,'lxml')\n",
    "print(soup.select('ul.quickSearchResultBox'))\n"
   ]
  },
  {
   "cell_type": "code",
   "execution_count": null,
   "id": "51ef3432-5eaf-4677-9e55-06b4854c4bb2",
   "metadata": {},
   "outputs": [],
   "source": []
  },
  {
   "cell_type": "code",
   "execution_count": null,
   "id": "95990611-71ed-4953-aa3d-6e216a4e4c3f",
   "metadata": {},
   "outputs": [],
   "source": []
  },
  {
   "cell_type": "code",
   "execution_count": null,
   "id": "c142765f-db81-42f6-98fb-de11b7572005",
   "metadata": {},
   "outputs": [],
   "source": []
  },
  {
   "cell_type": "code",
   "execution_count": null,
   "id": "24dd8a0b-5aeb-46fc-bbe8-9819d09abb0a",
   "metadata": {},
   "outputs": [],
   "source": []
  },
  {
   "cell_type": "code",
   "execution_count": null,
   "id": "cc5e95c0-d7cd-47e1-8551-5eda8351e329",
   "metadata": {},
   "outputs": [],
   "source": []
  },
  {
   "cell_type": "code",
   "execution_count": null,
   "id": "d7ef0fa0-2003-4d38-b2c9-082866dc7e62",
   "metadata": {},
   "outputs": [],
   "source": []
  },
  {
   "cell_type": "code",
   "execution_count": null,
   "id": "2bab345c-2b0e-4fbe-bf5e-50c7810b35bd",
   "metadata": {},
   "outputs": [],
   "source": []
  },
  {
   "cell_type": "code",
   "execution_count": null,
   "id": "6f6c40a9-4c41-4c9e-9124-27ab4b3f55ae",
   "metadata": {},
   "outputs": [],
   "source": []
  }
 ],
 "metadata": {
  "kernelspec": {
   "display_name": "Python 3 (ipykernel)",
   "language": "python",
   "name": "python3"
  },
  "language_info": {
   "codemirror_mode": {
    "name": "ipython",
    "version": 3
   },
   "file_extension": ".py",
   "mimetype": "text/x-python",
   "name": "python",
   "nbconvert_exporter": "python",
   "pygments_lexer": "ipython3",
   "version": "3.11.1"
  }
 },
 "nbformat": 4,
 "nbformat_minor": 5
}
