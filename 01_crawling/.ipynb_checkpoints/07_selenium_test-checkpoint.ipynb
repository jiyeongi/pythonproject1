{
 "cells": [
  {
   "cell_type": "code",
   "execution_count": 15,
   "id": "2048cd3a-79c9-45c5-97c9-8665a2c1a5b0",
   "metadata": {
    "tags": []
   },
   "outputs": [],
   "source": [
    "from selenium import webdriver\n",
    "import time"
   ]
  },
  {
   "cell_type": "code",
   "execution_count": 16,
   "id": "685a388e-a6ae-4fc5-ad92-711a239c829a",
   "metadata": {
    "tags": []
   },
   "outputs": [
    {
     "ename": "NoSuchWindowException",
     "evalue": "Message: no such window: target window already closed\nfrom unknown error: web view not found\n  (Session info: chrome=111.0.5563.147)\nStacktrace:\nBacktrace:\n\t(No symbol) [0x011EDCE3]\n\t(No symbol) [0x011839D1]\n\t(No symbol) [0x01094DA8]\n\t(No symbol) [0x0107D0D3]\n\t(No symbol) [0x010DEA8B]\n\t(No symbol) [0x010ED093]\n\t(No symbol) [0x010DACC6]\n\t(No symbol) [0x010B6F68]\n\t(No symbol) [0x010B80CD]\n\tGetHandleVerifier [0x01463832+2506274]\n\tGetHandleVerifier [0x01499794+2727300]\n\tGetHandleVerifier [0x0149E36C+2746716]\n\tGetHandleVerifier [0x01296690+617600]\n\t(No symbol) [0x0118C712]\n\t(No symbol) [0x01191FF8]\n\t(No symbol) [0x011920DB]\n\t(No symbol) [0x0119C63B]\n\tBaseThreadInitThunk [0x761E7D49+25]\n\tRtlInitializeExceptionChain [0x7767B74B+107]\n\tRtlClearBits [0x7767B6CF+191]\n",
     "output_type": "error",
     "traceback": [
      "\u001b[1;31m---------------------------------------------------------------------------\u001b[0m",
      "\u001b[1;31mNoSuchWindowException\u001b[0m                     Traceback (most recent call last)",
      "Cell \u001b[1;32mIn[16], line 9\u001b[0m\n\u001b[0;32m      7\u001b[0m driver\u001b[38;5;241m.\u001b[39mget(\u001b[38;5;124m'\u001b[39m\u001b[38;5;124mhttp://google.co.kr\u001b[39m\u001b[38;5;124m'\u001b[39m)\n\u001b[0;32m      8\u001b[0m time\u001b[38;5;241m.\u001b[39msleep(\u001b[38;5;241m5\u001b[39m)\n\u001b[1;32m----> 9\u001b[0m \u001b[43mdriver\u001b[49m\u001b[38;5;241;43m.\u001b[39;49m\u001b[43mget\u001b[49m\u001b[43m(\u001b[49m\u001b[38;5;124;43m'\u001b[39;49m\u001b[38;5;124;43mhttp://www.daum.net\u001b[39;49m\u001b[38;5;124;43m'\u001b[39;49m\u001b[43m)\u001b[49m\n\u001b[0;32m     10\u001b[0m time\u001b[38;5;241m.\u001b[39msleep(\u001b[38;5;241m5\u001b[39m)\n\u001b[0;32m     11\u001b[0m driver\u001b[38;5;241m.\u001b[39mback()\n",
      "File \u001b[1;32m~\\AppData\\Local\\Programs\\Python\\Python311\\Lib\\site-packages\\selenium\\webdriver\\remote\\webdriver.py:449\u001b[0m, in \u001b[0;36mWebDriver.get\u001b[1;34m(self, url)\u001b[0m\n\u001b[0;32m    447\u001b[0m \u001b[38;5;28;01mdef\u001b[39;00m \u001b[38;5;21mget\u001b[39m(\u001b[38;5;28mself\u001b[39m, url: \u001b[38;5;28mstr\u001b[39m) \u001b[38;5;241m-\u001b[39m\u001b[38;5;241m>\u001b[39m \u001b[38;5;28;01mNone\u001b[39;00m:\n\u001b[0;32m    448\u001b[0m \u001b[38;5;250m    \u001b[39m\u001b[38;5;124;03m\"\"\"Loads a web page in the current browser session.\"\"\"\u001b[39;00m\n\u001b[1;32m--> 449\u001b[0m     \u001b[38;5;28;43mself\u001b[39;49m\u001b[38;5;241;43m.\u001b[39;49m\u001b[43mexecute\u001b[49m\u001b[43m(\u001b[49m\u001b[43mCommand\u001b[49m\u001b[38;5;241;43m.\u001b[39;49m\u001b[43mGET\u001b[49m\u001b[43m,\u001b[49m\u001b[43m \u001b[49m\u001b[43m{\u001b[49m\u001b[38;5;124;43m\"\u001b[39;49m\u001b[38;5;124;43murl\u001b[39;49m\u001b[38;5;124;43m\"\u001b[39;49m\u001b[43m:\u001b[49m\u001b[43m \u001b[49m\u001b[43murl\u001b[49m\u001b[43m}\u001b[49m\u001b[43m)\u001b[49m\n",
      "File \u001b[1;32m~\\AppData\\Local\\Programs\\Python\\Python311\\Lib\\site-packages\\selenium\\webdriver\\remote\\webdriver.py:440\u001b[0m, in \u001b[0;36mWebDriver.execute\u001b[1;34m(self, driver_command, params)\u001b[0m\n\u001b[0;32m    438\u001b[0m response \u001b[38;5;241m=\u001b[39m \u001b[38;5;28mself\u001b[39m\u001b[38;5;241m.\u001b[39mcommand_executor\u001b[38;5;241m.\u001b[39mexecute(driver_command, params)\n\u001b[0;32m    439\u001b[0m \u001b[38;5;28;01mif\u001b[39;00m response:\n\u001b[1;32m--> 440\u001b[0m     \u001b[38;5;28;43mself\u001b[39;49m\u001b[38;5;241;43m.\u001b[39;49m\u001b[43merror_handler\u001b[49m\u001b[38;5;241;43m.\u001b[39;49m\u001b[43mcheck_response\u001b[49m\u001b[43m(\u001b[49m\u001b[43mresponse\u001b[49m\u001b[43m)\u001b[49m\n\u001b[0;32m    441\u001b[0m     response[\u001b[38;5;124m\"\u001b[39m\u001b[38;5;124mvalue\u001b[39m\u001b[38;5;124m\"\u001b[39m] \u001b[38;5;241m=\u001b[39m \u001b[38;5;28mself\u001b[39m\u001b[38;5;241m.\u001b[39m_unwrap_value(response\u001b[38;5;241m.\u001b[39mget(\u001b[38;5;124m\"\u001b[39m\u001b[38;5;124mvalue\u001b[39m\u001b[38;5;124m\"\u001b[39m, \u001b[38;5;28;01mNone\u001b[39;00m))\n\u001b[0;32m    442\u001b[0m     \u001b[38;5;28;01mreturn\u001b[39;00m response\n",
      "File \u001b[1;32m~\\AppData\\Local\\Programs\\Python\\Python311\\Lib\\site-packages\\selenium\\webdriver\\remote\\errorhandler.py:245\u001b[0m, in \u001b[0;36mErrorHandler.check_response\u001b[1;34m(self, response)\u001b[0m\n\u001b[0;32m    243\u001b[0m         alert_text \u001b[38;5;241m=\u001b[39m value[\u001b[38;5;124m\"\u001b[39m\u001b[38;5;124malert\u001b[39m\u001b[38;5;124m\"\u001b[39m]\u001b[38;5;241m.\u001b[39mget(\u001b[38;5;124m\"\u001b[39m\u001b[38;5;124mtext\u001b[39m\u001b[38;5;124m\"\u001b[39m)\n\u001b[0;32m    244\u001b[0m     \u001b[38;5;28;01mraise\u001b[39;00m exception_class(message, screen, stacktrace, alert_text)  \u001b[38;5;66;03m# type: ignore[call-arg]  # mypy is not smart enough here\u001b[39;00m\n\u001b[1;32m--> 245\u001b[0m \u001b[38;5;28;01mraise\u001b[39;00m exception_class(message, screen, stacktrace)\n",
      "\u001b[1;31mNoSuchWindowException\u001b[0m: Message: no such window: target window already closed\nfrom unknown error: web view not found\n  (Session info: chrome=111.0.5563.147)\nStacktrace:\nBacktrace:\n\t(No symbol) [0x011EDCE3]\n\t(No symbol) [0x011839D1]\n\t(No symbol) [0x01094DA8]\n\t(No symbol) [0x0107D0D3]\n\t(No symbol) [0x010DEA8B]\n\t(No symbol) [0x010ED093]\n\t(No symbol) [0x010DACC6]\n\t(No symbol) [0x010B6F68]\n\t(No symbol) [0x010B80CD]\n\tGetHandleVerifier [0x01463832+2506274]\n\tGetHandleVerifier [0x01499794+2727300]\n\tGetHandleVerifier [0x0149E36C+2746716]\n\tGetHandleVerifier [0x01296690+617600]\n\t(No symbol) [0x0118C712]\n\t(No symbol) [0x01191FF8]\n\t(No symbol) [0x011920DB]\n\t(No symbol) [0x0119C63B]\n\tBaseThreadInitThunk [0x761E7D49+25]\n\tRtlInitializeExceptionChain [0x7767B74B+107]\n\tRtlClearBits [0x7767B6CF+191]\n"
     ]
    }
   ],
   "source": [
    "driver=webdriver.Chrome()\n",
    "driver.get('http://www.naver.com')\n",
    "# 기다리기 timesleep과 같음 \n",
    "driver.implicitly_wait(10)\n",
    "# 5초후 열리게 하기\n",
    "# time.sleep(5)\n",
    "driver.get('http://google.co.kr')\n",
    "time.sleep(5)\n",
    "driver.get('http://www.daum.net')\n",
    "time.sleep(5)\n",
    "driver.back()\n",
    "driver.fullscreen_window()\n",
    "time.sleep(3)\n",
    "driver.back()\n",
    "# 창사이즈 \n",
    "driver.set_window_rect(100,100,800,800)\n",
    "time.sleep(3)\n",
    "# forwar되돌아가기\n",
    "driver.forward()\n",
    "time.sleep(3)\n",
    "# 창닫아주기\n",
    "driver.quit()\n",
    "# 크롬과 드라이버들이 버전이 맞는지 꼭확인해야함 안맞으면 오류생김 "
   ]
  },
  {
   "cell_type": "code",
   "execution_count": null,
   "id": "2491d8fa-a39b-4ef0-9e27-2abda194baeb",
   "metadata": {
    "tags": []
   },
   "outputs": [],
   "source": [
    "from selenium import webdriver\n",
    "import time\n",
    "from selenium.webdriver.common.by import By\n",
    "from selenium.webdriver.common.keys import Keys"
   ]
  },
  {
   "cell_type": "code",
   "execution_count": 30,
   "id": "6de3168e-bff9-4db4-ac82-9346cfadcc5e",
   "metadata": {
    "tags": []
   },
   "outputs": [],
   "source": [
    "driver=webdriver.Chrome()\n",
    "driver.get('https://www.naver.com')\n",
    "time.sleep(5)\n",
    "search=driver.find_element(By.ID,'query')\n",
    "# print(type(search))\n",
    "# print(search)\n",
    "search.send_keys('봄')\n",
    "search.send_keys(Keys.ENTER)\n",
    "item=driver.find_element(By.CSS_SELECTOR,'ul.base > li.menu:nth-child(2)')\n",
    "item.click()"
   ]
  },
  {
   "cell_type": "raw",
   "id": "b139e33b-fb9b-410e-952c-85a09ed9a88d",
   "metadata": {},
   "source": [
    "https://www.starbucks.co.kr/store/store_map.do"
   ]
  },
  {
   "cell_type": "code",
   "execution_count": 52,
   "id": "34906e03-e594-4e48-893c-7905af68fa71",
   "metadata": {
    "tags": []
   },
   "outputs": [],
   "source": [
    "from selenium import webdriver\n",
    "import time\n",
    "from selenium.webdriver.common.by import By\n",
    "from selenium.webdriver.common.keys import Keys\n",
    "import requests\n",
    "from bs4 import BeautifulSoup\n",
    "from urllib import request\n",
    "\n"
   ]
  },
  {
   "cell_type": "code",
   "execution_count": 55,
   "id": "adcb30d8-5f89-4850-b5f3-89328ed27ffb",
   "metadata": {
    "collapsed": true,
    "jupyter": {
     "outputs_hidden": true
    },
    "tags": []
   },
   "outputs": [
    {
     "name": "stdout",
     "output_type": "stream",
     "text": [
      "그랜드조선 부산  \n",
      "부산광역시 해운대구 해운대해변로 292 (중동)\n",
      "__________________________\n",
      "센텀몰1F  \n",
      "부산광역시 해운대구 센텀4로 15 (우동)\n",
      "__________________________\n",
      "해운대중동역  \n",
      "부산광역시 해운대구 좌동순환로 6 (중동)\n",
      "__________________________\n",
      "센텀신세계3F  \n",
      "부산광역시 해운대구 센텀남대로 35 (우동)\n",
      "__________________________\n",
      "해운대 엑스더스카이  \n",
      "부산광역시 해운대구 달맞이길30 \n",
      "__________________________\n",
      "해운대좌동  \n",
      "부산광역시 해운대구 좌동순환로 178 (좌동)\n",
      "__________________________\n",
      "해운대NC  \n",
      "부산광역시 해운대구 해운대로 813 (좌동)\n",
      "__________________________\n",
      "월드마크센텀  \n",
      "부산광역시 해운대구 센텀동로 25, 1층 (우동)\n",
      "__________________________\n",
      "센텀KNN  \n",
      "부산광역시 해운대구 센텀서로 30 (우동)\n",
      "__________________________\n",
      "센텀드림월드  \n",
      "부산광역시 해운대구 센텀2로 25, 센텀드림월드 1층 (우동)\n",
      "__________________________\n",
      "해운대이마트  \n",
      "부산광역시 해운대구 좌동순환로 511 (중동) 1층\n",
      "__________________________\n",
      "해운대달맞이  \n",
      "부산광역시 해운대구 달맞이길 189 (중동)\n",
      "__________________________\n",
      "마린시티아이파크  \n",
      "부산광역시 해운대구 마린시티2로 38 (우동)\n",
      "__________________________\n",
      "제니스스퀘어  \n",
      "부산광역시 해운대구 마린시티2로 33, 제니스스퀘어 (우동)\n",
      "__________________________\n",
      "센텀시티역  \n",
      "부산광역시 해운대구 센텀동로 9, 트럼프월드센텀아파트 1층 (우동)\n",
      "__________________________\n",
      "블루스퀘어  \n",
      "부산광역시 해운대구 좌동로 96 (좌동)\n",
      "__________________________\n",
      "팔레드시즈  \n",
      "부산광역시 해운대구 해운대해변로298번길 24, 팔래드시즈 1-3호, 2-3호 (중동)\n",
      "__________________________\n",
      "베네시티  \n",
      "부산광역시 해운대구 해운대해변로 163 (우동)\n",
      "__________________________\n",
      "벡스코  \n",
      "부산광역시 해운대구 APEC로 55, 벡스코내 (우동)\n",
      "__________________________\n",
      "하버타운  \n",
      "부산광역시 해운대구 해운대해변로 257 (우동)\n",
      "__________________________\n",
      "장산역  \n",
      "부산광역시 해운대구 해운대로 802 (좌동)\n",
      "__________________________\n",
      "부산송정비치  \n",
      "부산광역시 해운대구 송정해변로 36 (송정동)\n",
      "__________________________\n",
      "센텀그린타워  \n",
      "부산광역시 해운대구 센텀중앙로 78 (우동)\n",
      "__________________________\n",
      "해운대달맞이DT  \n",
      "부산광역시 해운대구 달맞이길 57 (중동) 1~3층\n",
      "__________________________\n",
      "센텀신세계B1  \n",
      "부산광역시 해운대구 센텀남대로 35 (우동) 센텀시티 신세계UEC\n",
      "__________________________\n",
      "센텀로  \n",
      "부산광역시 해운대구 센텀2로 10 (우동) 센텀메디컬센타 1층 스타벅스 센텀로점\n",
      "__________________________\n",
      "해운대  \n",
      "부산광역시 해운대구 구남로 49 (중동) 101호\n",
      "__________________________\n",
      "부산재송DT  \n",
      "부산광역시 해운대구 해운대로 189 (재송동)\n",
      "__________________________\n",
      "해운대역  \n",
      "부산광역시 해운대구 구남로 9 (우동)\n",
      "__________________________\n",
      "센텀파크  \n",
      "부산광역시 해운대구 센텀중앙로 145 (재송동, 더샵센텀파크1차아파트)\n",
      "__________________________\n",
      "수영강변DT  \n",
      "부산광역시 해운대구 수영강변대로 516 (반여동)\n",
      "__________________________\n",
      "더해운대R  \n",
      "부산광역시 해운대구 해운대해변로 197 (우동, 해운대경동제이드아파트)\n",
      "__________________________\n"
     ]
    }
   ],
   "source": [
    "url='https://www.starbucks.co.kr/store/store_map.do'\n",
    "driver=webdriver.Chrome()\n",
    "driver.get(url)\n",
    "time.sleep(3)\n",
    "\n",
    "loca=driver.find_element(By.CLASS_NAME,'loca_search')\n",
    "# print(loca)\n",
    "loca.click()\n",
    "\n",
    "time.sleep(5)\n",
    "sido=driver.find_elements(By.CSS_SELECTOR,'ul.sido_arae_box > li')\n",
    "\n",
    "# print(sido)\n",
    "\n",
    "sido[5].click()\n",
    "\n",
    "time.sleep(3)\n",
    "gugun=driver.find_elements(By.CSS_SELECTOR,'ul.gugun_arae_box > li')\n",
    "gugun[-1].click()\n",
    "\n",
    "time.sleep(3)\n",
    "page=driver.page_source\n",
    "\n",
    "soup = BeautifulSoup(page,'lxml')\n",
    "items=soup.select('ul.quickSearchResultBoxSidoGugun li')\n",
    "for li in items :\n",
    "    print(li.find('strong').string)\n",
    "    print(li.find('p').text.replace('1522-3232',''))\n",
    "    print('__________________________')\n",
    "    \n",
    "\n",
    "\n",
    "\n"
   ]
  },
  {
   "cell_type": "code",
   "execution_count": 37,
   "id": "1dc2cd4e-231b-45ef-9d4a-df61da5b01a0",
   "metadata": {
    "tags": []
   },
   "outputs": [
    {
     "name": "stdout",
     "output_type": "stream",
     "text": [
      "[]\n"
     ]
    }
   ],
   "source": [
    "\n"
   ]
  },
  {
   "cell_type": "code",
   "execution_count": null,
   "id": "dfab4f62-c2af-4f06-a49d-1f287f04407a",
   "metadata": {},
   "outputs": [],
   "source": []
  },
  {
   "cell_type": "code",
   "execution_count": null,
   "id": "18fc6c86-8905-4b22-afa1-dd85df1f15ac",
   "metadata": {},
   "outputs": [],
   "source": []
  },
  {
   "cell_type": "code",
   "execution_count": null,
   "id": "2b63a545-2410-4aa2-84f5-a84910e97d35",
   "metadata": {},
   "outputs": [],
   "source": []
  },
  {
   "cell_type": "code",
   "execution_count": null,
   "id": "eee6d771-3810-498b-9f2e-120e1b942b28",
   "metadata": {},
   "outputs": [],
   "source": []
  }
 ],
 "metadata": {
  "kernelspec": {
   "display_name": "Python 3 (ipykernel)",
   "language": "python",
   "name": "python3"
  },
  "language_info": {
   "codemirror_mode": {
    "name": "ipython",
    "version": 3
   },
   "file_extension": ".py",
   "mimetype": "text/x-python",
   "name": "python",
   "nbconvert_exporter": "python",
   "pygments_lexer": "ipython3",
   "version": "3.11.1"
  }
 },
 "nbformat": 4,
 "nbformat_minor": 5
}
