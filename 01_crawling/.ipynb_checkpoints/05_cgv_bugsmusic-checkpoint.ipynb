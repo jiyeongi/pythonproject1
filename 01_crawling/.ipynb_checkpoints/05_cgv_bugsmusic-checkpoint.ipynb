{
 "cells": [
  {
   "cell_type": "code",
   "execution_count": 4,
   "id": "f6646a1c-efdd-41a0-a7ee-ded5448a3c81",
   "metadata": {
    "tags": []
   },
   "outputs": [],
   "source": [
    "import requests\n",
    "from bs4 import BeautifulSoup\n"
   ]
  },
  {
   "cell_type": "code",
   "execution_count": null,
   "id": "cf24d283-265c-45c1-8c16-5bebb77fb360",
   "metadata": {},
   "outputs": [],
   "source": [
    "#cgv 무비차트크롤링 영화제목 크롤링 "
   ]
  },
  {
   "cell_type": "code",
   "execution_count": null,
   "id": "12c77016-2fff-4d76-9632-64013b4279f2",
   "metadata": {},
   "outputs": [],
   "source": []
  },
  {
   "cell_type": "code",
   "execution_count": null,
   "id": "de380507-8dc0-42fe-b6d0-2dab1d4559a0",
   "metadata": {},
   "outputs": [],
   "source": [
    "# 벅스뮤직크롤링 벅스차트, 아티스트 크롤링"
   ]
  },
  {
   "cell_type": "raw",
   "id": "a7e6fb46-c58f-430f-b715-4382ff4fb92f",
   "metadata": {},
   "source": [
    "https://music.bugs.co.kr/chart"
   ]
  },
  {
   "cell_type": "code",
   "execution_count": 8,
   "id": "c11142a6-efd1-4a89-a474-4598cb62701f",
   "metadata": {
    "tags": []
   },
   "outputs": [
    {
     "ename": "NameError",
     "evalue": "name 'urlopen' is not defined",
     "output_type": "error",
     "traceback": [
      "\u001b[1;31m---------------------------------------------------------------------------\u001b[0m",
      "\u001b[1;31mNameError\u001b[0m                                 Traceback (most recent call last)",
      "Cell \u001b[1;32mIn[8], line 1\u001b[0m\n\u001b[1;32m----> 1\u001b[0m url\u001b[38;5;241m=\u001b[39m\u001b[43murlopen\u001b[49m(\u001b[38;5;124m\"\u001b[39m\u001b[38;5;124mhttps://music.bugs.co.kr/chart/track/day/total?chartdate=20230404\u001b[39m\u001b[38;5;124m\"\u001b[39m)\n\u001b[0;32m      2\u001b[0m soup\u001b[38;5;241m=\u001b[39mBeatifulSoup\n\u001b[0;32m      3\u001b[0m cnt_artist\u001b[38;5;241m=\u001b[39m\u001b[38;5;241m0\u001b[39m\n",
      "\u001b[1;31mNameError\u001b[0m: name 'urlopen' is not defined"
     ]
    }
   ],
   "source": [
    "url=urlopen(\"https://music.bugs.co.kr/chart\")\n",
    "soup=BeatifulSoup\n",
    "cnt_artist=0\n",
    "cnt_title=0\n",
    "\n",
    "for link in soup.find_all(name='p', atters={\"class\":\"artist\"}):\n",
    "                          cnt_artist+=1\n",
    "                          print(str(cnt_artist)+\"위\")\n",
    "                          print(\"아티스트:\"+link.find('a').text)\n",
    "print(\"-------------\")\n",
    "\n",
    "for link2 in soup.find_all(name=\"p\",attrs={\"class\":\"title\"}):\n",
    "                          cnt_title+=1\n",
    "                          print(str(cnt_title)+\"위\")\n",
    "                          print(\"노래제목 : \" +link2.text)\n",
    "\n",
    "                                "
   ]
  },
  {
   "cell_type": "code",
   "execution_count": null,
   "id": "414d707e-7344-4741-9d3c-42b1e671c6dc",
   "metadata": {},
   "outputs": [],
   "source": []
  },
  {
   "cell_type": "code",
   "execution_count": null,
   "id": "787836b0-ff66-4f75-af45-abf0e5056604",
   "metadata": {},
   "outputs": [],
   "source": []
  },
  {
   "cell_type": "code",
   "execution_count": null,
   "id": "93a4ce35-295b-40ed-a43b-ffce397d15f4",
   "metadata": {},
   "outputs": [],
   "source": []
  },
  {
   "cell_type": "code",
   "execution_count": null,
   "id": "aca4bccd-db32-481f-ba2d-432798f85131",
   "metadata": {},
   "outputs": [],
   "source": []
  },
  {
   "cell_type": "code",
   "execution_count": null,
   "id": "969597a4-d0e4-4bcf-abcd-938b95e14026",
   "metadata": {},
   "outputs": [],
   "source": []
  },
  {
   "cell_type": "code",
   "execution_count": null,
   "id": "e5910235-e06a-43e5-90fd-4ba0a6c4a9cc",
   "metadata": {},
   "outputs": [],
   "source": []
  }
 ],
 "metadata": {
  "kernelspec": {
   "display_name": "Python 3 (ipykernel)",
   "language": "python",
   "name": "python3"
  },
  "language_info": {
   "codemirror_mode": {
    "name": "ipython",
    "version": 3
   },
   "file_extension": ".py",
   "mimetype": "text/x-python",
   "name": "python",
   "nbconvert_exporter": "python",
   "pygments_lexer": "ipython3",
   "version": "3.11.1"
  }
 },
 "nbformat": 4,
 "nbformat_minor": 5
}
