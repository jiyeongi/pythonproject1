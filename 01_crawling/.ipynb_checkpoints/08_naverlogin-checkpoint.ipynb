{
 "cells": [
  {
   "cell_type": "code",
   "execution_count": 15,
   "id": "2af31a9b-aa8f-4bd9-b7d4-4e66241f5801",
   "metadata": {
    "tags": []
   },
   "outputs": [],
   "source": [
    "from selenium import webdriver\n",
    "from selenium.webdriver.common.by import By\n",
    "from selenium.webdriver.common.keys import Keys\n",
    "import time\n",
    "import pyperclip"
   ]
  },
  {
   "cell_type": "code",
   "execution_count": 14,
   "id": "e732bdae-db19-40a7-a546-ee33c647bb13",
   "metadata": {
    "collapsed": true,
    "jupyter": {
     "outputs_hidden": true
    },
    "tags": []
   },
   "outputs": [
    {
     "name": "stdout",
     "output_type": "stream",
     "text": [
      "Collecting pyperclip\n",
      "  Downloading pyperclip-1.8.2.tar.gz (20 kB)\n",
      "  Preparing metadata (setup.py): started\n",
      "  Preparing metadata (setup.py): finished with status 'done'\n",
      "Installing collected packages: pyperclip\n",
      "  Running setup.py install for pyperclip: started\n",
      "  Running setup.py install for pyperclip: finished with status 'done'\n",
      "Successfully installed pyperclip-1.8.2\n"
     ]
    },
    {
     "name": "stderr",
     "output_type": "stream",
     "text": [
      "  DEPRECATION: pyperclip is being installed using the legacy 'setup.py install' method, because it does not have a 'pyproject.toml' and the 'wheel' package is not installed. pip 23.1 will enforce this behaviour change. A possible replacement is to enable the '--use-pep517' option. Discussion can be found at https://github.com/pypa/pip/issues/8559\n"
     ]
    }
   ],
   "source": [
    "!pip install pyperclip"
   ]
  },
  {
   "cell_type": "code",
   "execution_count": 5,
   "id": "bc7d7b14-27c8-4159-9cce-a7f416de0fe1",
   "metadata": {
    "tags": []
   },
   "outputs": [],
   "source": [
    "id='jiyeongi'\n",
    "pw='*jjy12720107'"
   ]
  },
  {
   "cell_type": "code",
   "execution_count": 17,
   "id": "8900538c-e456-4777-9974-39cdb908ae3e",
   "metadata": {
    "tags": []
   },
   "outputs": [],
   "source": [
    "url = 'https://nid.naver.com/nidlogin.login'\n",
    "driver = webdriver.Chrome()\n",
    "driver.get(url)\n",
    "time.sleep(5)\n",
    "\n",
    "# driver.find_element(By.ID,'id').send_keys(id)\n",
    "# driver.find_element(By.ID,'pw').send_keys(pw)\n",
    "\n",
    "# driver.execute_script(\"document.getElementsByName('id')[0].value='\"+id+\"'\")\n",
    "# driver.execute_script(\"document.getElementsByName('pw')[0].value='\"+pw+\"'\")\n",
    "\n",
    "ele_id=driver.find_element(By.ID,'id')\n",
    "ele_id.click()\n",
    "pyperclip.copy(id)\n",
    "ele_id.send_keys(Keys.CONTROL,'v')\n",
    "time.sleep(2)\n",
    "\n",
    "ele_pw=driver.find_element(By.ID,'pw')\n",
    "ele_pw.click()\n",
    "pyperclip.copy(id)\n",
    "ele_pw.send_keys(Keys.CONTROL,'v')\n",
    "time.sleep(2)\n",
    "\n",
    "# 네이버는 이런방식을 사용하지 못하게 막혀있음\n",
    "# driver.find_element(By.CLASS_NAME,'btn_login').click()\n",
    "\n",
    "driver.find_element(By.XPATH,'//*[@id=\"log.login\"]').click()\n",
    "\n",
    "\n"
   ]
  },
  {
   "cell_type": "code",
   "execution_count": 8,
   "id": "60cc637a-5ea4-4fa3-a75a-01ab553877c3",
   "metadata": {
    "tags": []
   },
   "outputs": [
    {
     "data": {
      "text/plain": [
       "\"document.getElementsByName('id')[0].value='jiyeongi'\""
      ]
     },
     "execution_count": 8,
     "metadata": {},
     "output_type": "execute_result"
    }
   ],
   "source": [
    "text=\"document.getElementsByName('id')[0].value='\"+id+\"'\"\n",
    "text"
   ]
  },
  {
   "cell_type": "code",
   "execution_count": 9,
   "id": "072c58f5-15e8-43df-b968-b541e4e2e81d",
   "metadata": {
    "tags": []
   },
   "outputs": [
    {
     "data": {
      "text/plain": [
       "\"document.getElementsByName('id')[0].value='*jjy12720107'\""
      ]
     },
     "execution_count": 9,
     "metadata": {},
     "output_type": "execute_result"
    }
   ],
   "source": [
    "text=\"document.getElementsByName('id')[0].value='\"+pw+\"'\"\n",
    "text"
   ]
  },
  {
   "cell_type": "code",
   "execution_count": null,
   "id": "88176f7c-6400-4717-93b8-ecc10cca084f",
   "metadata": {},
   "outputs": [],
   "source": []
  },
  {
   "cell_type": "code",
   "execution_count": null,
   "id": "e1d8622d-c0ed-4a33-9c17-eb38aff4ef5b",
   "metadata": {},
   "outputs": [],
   "source": []
  },
  {
   "cell_type": "code",
   "execution_count": null,
   "id": "e00a8449-9e88-460c-99a4-22d357befe10",
   "metadata": {},
   "outputs": [],
   "source": []
  },
  {
   "cell_type": "code",
   "execution_count": null,
   "id": "b0456cde-60d3-4086-8364-440b063e700f",
   "metadata": {},
   "outputs": [],
   "source": []
  },
  {
   "cell_type": "code",
   "execution_count": null,
   "id": "09955831-0fba-4594-8dba-762a70ff664d",
   "metadata": {},
   "outputs": [],
   "source": []
  },
  {
   "cell_type": "code",
   "execution_count": null,
   "id": "7b78dfbe-c376-4cef-9e36-c9b3e38bf22b",
   "metadata": {},
   "outputs": [],
   "source": []
  },
  {
   "cell_type": "code",
   "execution_count": null,
   "id": "50e17dbc-12ad-4d41-98db-6da6bf4cf6ab",
   "metadata": {},
   "outputs": [],
   "source": []
  },
  {
   "cell_type": "code",
   "execution_count": null,
   "id": "4b18affb-70e3-4d53-a366-8804feffe88c",
   "metadata": {},
   "outputs": [],
   "source": []
  },
  {
   "cell_type": "code",
   "execution_count": null,
   "id": "5e4aae52-404b-47f9-afbc-6552c5511ad5",
   "metadata": {},
   "outputs": [],
   "source": []
  },
  {
   "cell_type": "code",
   "execution_count": null,
   "id": "15e1d7e1-4261-401a-9b68-12793e5f2558",
   "metadata": {},
   "outputs": [],
   "source": []
  },
  {
   "cell_type": "code",
   "execution_count": null,
   "id": "ec43c495-30bf-497a-8834-b5fa03803b3b",
   "metadata": {},
   "outputs": [],
   "source": []
  },
  {
   "cell_type": "code",
   "execution_count": null,
   "id": "4963dcf7-1d26-455a-b413-4938fa537c5a",
   "metadata": {},
   "outputs": [],
   "source": []
  },
  {
   "cell_type": "code",
   "execution_count": null,
   "id": "775b4492-7464-4600-b4e3-13d60ff26201",
   "metadata": {},
   "outputs": [],
   "source": []
  },
  {
   "cell_type": "code",
   "execution_count": null,
   "id": "ebad553f-c045-4bda-bd60-281d6e731f37",
   "metadata": {},
   "outputs": [],
   "source": []
  }
 ],
 "metadata": {
  "kernelspec": {
   "display_name": "Python 3 (ipykernel)",
   "language": "python",
   "name": "python3"
  },
  "language_info": {
   "codemirror_mode": {
    "name": "ipython",
    "version": 3
   },
   "file_extension": ".py",
   "mimetype": "text/x-python",
   "name": "python",
   "nbconvert_exporter": "python",
   "pygments_lexer": "ipython3",
   "version": "3.11.1"
  }
 },
 "nbformat": 4,
 "nbformat_minor": 5
}
