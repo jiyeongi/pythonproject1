{
 "cells": [
  {
   "cell_type": "code",
   "execution_count": 1,
   "id": "bb5d8938-a50d-470a-8421-b8e2a184229b",
   "metadata": {
    "tags": []
   },
   "outputs": [],
   "source": [
    "# 네이버 이미지에서 검색 키워드를 입력받아서 검색한 다음 이미지 결과에서 \n",
    "# 이미지를 10개정도 다운로드 받아서 img폴더에 저장하세요"
   ]
  },
  {
   "cell_type": "code",
   "execution_count": 3,
   "id": "2c0efb1a-71b3-450d-a78c-271c32a643ba",
   "metadata": {
    "tags": []
   },
   "outputs": [],
   "source": [
    "\n",
    "url='https://search.pstatic.net/common/?src=http%3A%2F%….JPEG.ttunyo0005%2F700469343.845415.jpg&type=a340'\n",
    "savename='test1.jpg'\n",
    "\n",
    "\n"
   ]
  },
  {
   "cell_type": "code",
   "execution_count": 5,
   "id": "44741a93-e1b4-4622-ad75-137542ab7e42",
   "metadata": {
    "tags": []
   },
   "outputs": [],
   "source": [
    "url='https://search.pstatic.net/common/?src=http%3A%2F%…216%25A3%25DF164950.jpg&type=ofullfill340_600_png'\n",
    "savename='test2.jpg'"
   ]
  },
  {
   "cell_type": "code",
   "execution_count": 6,
   "id": "6d6466a4-ce64-49f9-9a67-17058d89adc7",
   "metadata": {
    "tags": []
   },
   "outputs": [
    {
     "data": {
      "text/plain": [
       "'https://search.pstatic.net/common/?src=http%3A%2F%2Fblogfiles.naver.net%2FMjAyMzAyMjZfMTU4%2FMDAxNjc3MzkxMTAwMTA3.gzi0s5W3UvTuAYA3WA-F6zr61GGogAft31BKE1UWFZIg.a6w_DBB-AmjdWptZ0Z3wYeeHspp62XHZOtzzOydmWCAg.JPEG.leeja5139%2F20220329%25A3%25DF111607.jpg&type=a340'"
      ]
     },
     "execution_count": 6,
     "metadata": {},
     "output_type": "execute_result"
    }
   ],
   "source": [
    "'https://search.pstatic.net/common/?src=http%3A%2F%2Fblogfiles.naver.net%2FMjAyMzAyMjZfMTU4%2FMDAxNjc3MzkxMTAwMTA3.gzi0s5W3UvTuAYA3WA-F6zr61GGogAft31BKE1UWFZIg.a6w_DBB-AmjdWptZ0Z3wYeeHspp62XHZOtzzOydmWCAg.JPEG.leeja5139%2F20220329%25A3%25DF111607.jpg&type=a340'"
   ]
  },
  {
   "cell_type": "code",
   "execution_count": 7,
   "id": "8f378d39-6e90-4464-8a98-07cf5e6c25b6",
   "metadata": {
    "tags": []
   },
   "outputs": [],
   "source": [
    "from urllib import request,parse\n"
   ]
  },
  {
   "cell_type": "code",
   "execution_count": 8,
   "id": "6ec26bcb-3ff8-43b0-88b0-2ef31e6fb5a9",
   "metadata": {
    "tags": []
   },
   "outputs": [],
   "source": [
    "html_doc = \"\"\"<html><head><title>The Dormouse's story</title></head>\n",
    "<body>\n",
    "<p class=\"title\"><b>The Dormouse's story</b></p>\n",
    "\n",
    "<p class=\"story\">Once upon a time there were three little sisters; and their names were\n",
    "<a href=\"http://example.com/elsie\" class=\"sister\" id=\"link1\">Elsie</a>,\n",
    "<a href=\"http://example.com/lacie\" class=\"sister\" id=\"link2\">Lacie</a> and\n",
    "<a href=\"http://example.com/tillie\" class=\"sister\" id=\"link3\">Tillie</a>;\n",
    "and they lived at the bottom of a well.</p>\n",
    "\n",
    "<p class=\"story\">...</p>\n",
    "\"\"\""
   ]
  },
  {
   "cell_type": "code",
   "execution_count": 9,
   "id": "b8e606e8-8f68-4bb3-9a9a-dcec0f614ccc",
   "metadata": {
    "tags": []
   },
   "outputs": [
    {
     "name": "stdout",
     "output_type": "stream",
     "text": [
      "Requirement already satisfied: beautifulsoup4 in c:\\users\\admin\\appdata\\local\\programs\\python\\python311\\lib\\site-packages (4.11.2)\n",
      "Requirement already satisfied: soupsieve>1.2 in c:\\users\\admin\\appdata\\local\\programs\\python\\python311\\lib\\site-packages (from beautifulsoup4) (2.3.2.post1)\n",
      "Note: you may need to restart the kernel to use updated packages.\n"
     ]
    }
   ],
   "source": [
    "pip install beautifulsoup4"
   ]
  },
  {
   "cell_type": "code",
   "execution_count": 10,
   "id": "2928d1cd-b60d-4772-9d30-8c567d47cb33",
   "metadata": {
    "tags": []
   },
   "outputs": [],
   "source": [
    "from bs4 import BeautifulSoup\n"
   ]
  },
  {
   "cell_type": "code",
   "execution_count": 11,
   "id": "d6936338-03bc-4602-a649-149cea5afd58",
   "metadata": {
    "tags": []
   },
   "outputs": [],
   "source": [
    "soup = BeautifulSoup(html_doc,'html.parser')"
   ]
  },
  {
   "cell_type": "code",
   "execution_count": 1,
   "id": "f6fdf314-b9f1-4d87-ad90-e373f7d2c05a",
   "metadata": {
    "tags": []
   },
   "outputs": [],
   "source": [
    "from urllib.request import urlopen"
   ]
  },
  {
   "cell_type": "code",
   "execution_count": 2,
   "id": "49d64e19-689b-482c-aebc-ad6481d1f3e8",
   "metadata": {},
   "outputs": [],
   "source": [
    "from bs4 import BeautifulSoup as bs"
   ]
  },
  {
   "cell_type": "code",
   "execution_count": 3,
   "id": "26967eaf-15b6-487b-ab4f-e7dc764dcbc2",
   "metadata": {},
   "outputs": [],
   "source": [
    "from urllib.parse import quote_plus"
   ]
  },
  {
   "cell_type": "code",
   "execution_count": 5,
   "id": "672dfee8-f3b1-4048-815f-895ca39fe14e",
   "metadata": {},
   "outputs": [
    {
     "name": "stdin",
     "output_type": "stream",
     "text": [
      "검색어를 입력하세요 :  봄꽃\n"
     ]
    }
   ],
   "source": [
    "baseUrl = 'https://search.naver.com/search.naver?where=image&sm=tab_jum&query=' # 네이버 검색url\n",
    "plusUrl = input('검색어를 입력하세요 : ') # 검색어 질문\n",
    "url = baseUrl + quote_plus(plusUrl) # url로 이동하기위한 쿼리문자열 만들기\n",
    "html = urlopen(url) # url 열기\n",
    "soup = bs(html, \"html.parser\")\n",
    "img = soup.find_all(class_='_img', limit = 10) #클래스가 _img인 사진 50장으로 제한"
   ]
  },
  {
   "cell_type": "code",
   "execution_count": 6,
   "id": "1e177392-8510-4eca-b2b5-9927a0222b52",
   "metadata": {},
   "outputs": [
    {
     "name": "stdout",
     "output_type": "stream",
     "text": [
      "다운로드 완료\n"
     ]
    }
   ],
   "source": [
    "n = 1\n",
    "for i in img: # 이미지를 50개 저장하기 위한 반복문\n",
    "    imgUrl = i['data-source'] \n",
    "    with urlopen(imgUrl) as f:\n",
    "        with open('./img/' + plusUrl + str(n)+'.jpg','wb') as h: # 이미지 + 사진번호 + 확장자는 jpg\n",
    "            img = f.read() #이미지 읽기\n",
    "            h.write(img) # 이미지 저장\n",
    "    n += 1\n",
    "print('다운로드 완료')"
   ]
  },
  {
   "cell_type": "code",
   "execution_count": 8,
   "id": "7d5f4a32-da6b-467b-a65a-81d9768a9b59",
   "metadata": {},
   "outputs": [],
   "source": [
    "import requests\n",
    "from urllib import request\n",
    "from bs4 import BeautifulSoup"
   ]
  },
  {
   "cell_type": "code",
   "execution_count": 20,
   "id": "6aad4ecc-38d7-4eb4-aeaa-2971fc9c60c3",
   "metadata": {
    "tags": []
   },
   "outputs": [
    {
     "name": "stdin",
     "output_type": "stream",
     "text": [
      "검색어>>> 봄\n"
     ]
    },
    {
     "name": "stdout",
     "output_type": "stream",
     "text": [
      "url오류\n"
     ]
    }
   ],
   "source": [
    "# url='https://search.naver.com/search.naver?sm=tab_hty.top&where=image&query=%EB%B4%84&oquery=%EB%B2%9A%EA%BD%83&tqi=iuoxBlprvmsssKKgZBRssssst9Z-230155'\n",
    "key= input('검색어>>>')\n",
    "url ='https://search.naver.com/search.naver'\n",
    "param={\n",
    "    'where':'image',\n",
    "    'sm':'tab_jum',\n",
    "    'query':key\n",
    "}\n",
    "r=requests.get(url,params=param)\n",
    "soup=BeautifulSoup(r.text,'lxml')\n",
    "result=soup.find_all('img')\n",
    "# print(result)\n",
    "for i,item in enumerate(result):\n",
    "    try:\n",
    "        # print(item['src'])\n",
    "        index = item['src'].index('&')\n",
    "        # print(index)\n",
    "        src=item['src'][:index]\n",
    "        src_list=src.split('.')[-1]\n",
    "        # print(src_list)\n",
    "        request.urlretrieve(src,'img/'+str(i)+'.'+src_list)\n",
    "    except:\n",
    "        print('url오류')\n",
    "    "
   ]
  },
  {
   "cell_type": "code",
   "execution_count": 21,
   "id": "8b4ab8c9-a33f-454f-ac2f-343627914ddf",
   "metadata": {
    "tags": []
   },
   "outputs": [
    {
     "data": {
      "text/plain": [
       "'C:\\\\pythonproject\\\\01_crawling'"
      ]
     },
     "execution_count": 21,
     "metadata": {},
     "output_type": "execute_result"
    }
   ],
   "source": [
    "# 현재경로표시\n",
    "pwd"
   ]
  },
  {
   "cell_type": "code",
   "execution_count": 26,
   "id": "aa83932f-28e4-44db-98c4-f7407f79eb86",
   "metadata": {
    "tags": []
   },
   "outputs": [],
   "source": [
    "import requests\n",
    "from urllib import request\n",
    "from bs4 import BeautifulSoup\n",
    "import urllib.request as req"
   ]
  },
  {
   "cell_type": "code",
   "execution_count": null,
   "id": "5b53bef9-8bcd-43d4-9a49-068385ceb45d",
   "metadata": {},
   "outputs": [],
   "source": [
    "# 'https://finance.naver.com/marketindex/?tabSel=exchange#tab_section'"
   ]
  },
  {
   "cell_type": "code",
   "execution_count": 30,
   "id": "0815d501-b649-4468-8030-e12c7ab883af",
   "metadata": {
    "tags": []
   },
   "outputs": [
    {
     "name": "stdout",
     "output_type": "stream",
     "text": [
      "1 미국 USD 1,315.50\n",
      "2 일본 JPY(100엔) 985.43\n",
      "3 유럽연합 EUR 1,425.34\n",
      "4 중국 CNY 190.85\n",
      "5 달러/일본 엔 132.7700\n",
      "6 유로/달러 1.0868\n",
      "7 영국 파운드/달러 1.2345\n",
      "8 달러인덱스 102.1800\n",
      "9 WTI 75.67\n",
      "10 휘발유 1595.98\n",
      "11 국제 금 1986.2\n",
      "12 국내 금 82888.33\n"
     ]
    },
    {
     "ename": "NameError",
     "evalue": "name 'indexError' is not defined",
     "output_type": "error",
     "traceback": [
      "\u001b[1;31m---------------------------------------------------------------------------\u001b[0m",
      "\u001b[1;31mIndexError\u001b[0m                                Traceback (most recent call last)",
      "Cell \u001b[1;32mIn[30], line 9\u001b[0m\n\u001b[0;32m      8\u001b[0m \u001b[38;5;28;01mtry\u001b[39;00m : \n\u001b[1;32m----> 9\u001b[0m     \u001b[38;5;28mprint\u001b[39m(i\u001b[38;5;241m+\u001b[39m\u001b[38;5;241m1\u001b[39m, \u001b[43mname_nation\u001b[49m\u001b[43m[\u001b[49m\u001b[43mi\u001b[49m\u001b[43m]\u001b[49m\u001b[38;5;241m.\u001b[39mtext, name_price[i]\u001b[38;5;241m.\u001b[39mtext)\n\u001b[0;32m     10\u001b[0m     i\u001b[38;5;241m=\u001b[39mi\u001b[38;5;241m+\u001b[39m\u001b[38;5;241m1\u001b[39m\n",
      "\u001b[1;31mIndexError\u001b[0m: list index out of range",
      "\nDuring handling of the above exception, another exception occurred:\n",
      "\u001b[1;31mNameError\u001b[0m                                 Traceback (most recent call last)",
      "Cell \u001b[1;32mIn[30], line 11\u001b[0m\n\u001b[0;32m      9\u001b[0m     \u001b[38;5;28mprint\u001b[39m(i\u001b[38;5;241m+\u001b[39m\u001b[38;5;241m1\u001b[39m, name_nation[i]\u001b[38;5;241m.\u001b[39mtext, name_price[i]\u001b[38;5;241m.\u001b[39mtext)\n\u001b[0;32m     10\u001b[0m     i\u001b[38;5;241m=\u001b[39mi\u001b[38;5;241m+\u001b[39m\u001b[38;5;241m1\u001b[39m\n\u001b[1;32m---> 11\u001b[0m \u001b[38;5;28;01mexcept\u001b[39;00m \u001b[43mindexError\u001b[49m:\n\u001b[0;32m     12\u001b[0m     \u001b[38;5;28;01mpass\u001b[39;00m\n",
      "\u001b[1;31mNameError\u001b[0m: name 'indexError' is not defined"
     ]
    }
   ],
   "source": []
  },
  {
   "cell_type": "code",
   "execution_count": null,
   "id": "d6272510-5302-4181-a687-727e330ad9e8",
   "metadata": {},
   "outputs": [],
   "source": []
  },
  {
   "cell_type": "code",
   "execution_count": null,
   "id": "b840dd96-546f-4017-8411-aff70f956d64",
   "metadata": {},
   "outputs": [],
   "source": []
  },
  {
   "cell_type": "code",
   "execution_count": null,
   "id": "76769f6d-27be-4756-b844-9ead59fe0920",
   "metadata": {},
   "outputs": [],
   "source": []
  },
  {
   "cell_type": "code",
   "execution_count": null,
   "id": "cf948311-d4d1-4356-a114-d220dfb001d7",
   "metadata": {},
   "outputs": [],
   "source": []
  },
  {
   "cell_type": "code",
   "execution_count": null,
   "id": "041a4862-3d47-448e-b61b-4a05bdd0dbc1",
   "metadata": {},
   "outputs": [],
   "source": []
  }
 ],
 "metadata": {
  "kernelspec": {
   "display_name": "Python 3 (ipykernel)",
   "language": "python",
   "name": "python3"
  },
  "language_info": {
   "codemirror_mode": {
    "name": "ipython",
    "version": 3
   },
   "file_extension": ".py",
   "mimetype": "text/x-python",
   "name": "python",
   "nbconvert_exporter": "python",
   "pygments_lexer": "ipython3",
   "version": "3.11.1"
  }
 },
 "nbformat": 4,
 "nbformat_minor": 5
}
