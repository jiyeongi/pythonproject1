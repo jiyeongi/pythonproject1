{
 "cells": [
  {
   "cell_type": "code",
   "execution_count": 1,
   "id": "83b97541-3ec0-44be-81d5-3801ba0ec965",
   "metadata": {
    "tags": []
   },
   "outputs": [],
   "source": [
    "import requests\n",
    "from bs4 import BeautifulSoup\n",
    "from urllib import request\n",
    "import time"
   ]
  },
  {
   "cell_type": "code",
   "execution_count": null,
   "id": "72ae1ea6-6558-4b91-a80d-a3d7f53ab117",
   "metadata": {},
   "outputs": [],
   "source": [
    "url='https://www.starbucks.co.kr/store/store_map.do'\n",
    "\n",
    "r=request.urlopen(url)\n",
    "# print(r.read().decode('utf8'))\n",
    "soup=BeautifulSoup(r,'lxml')\n",
    "# print(soup)\n",
    "print(soup.select('ul.quickSearchResultBox'))\n",
    "\n",
    "\n",
    "\n",
    "\n",
    "\n"
   ]
  },
  {
   "cell_type": "code",
   "execution_count": null,
   "id": "436bb2a6-ba92-457d-af5b-11a95427202a",
   "metadata": {},
   "outputs": [],
   "source": [
    "!pip install selenium"
   ]
  },
  {
   "cell_type": "code",
   "execution_count": null,
   "id": "dcb00a90-2ea7-4f6b-a379-908278ceb13c",
   "metadata": {},
   "outputs": [],
   "source": [
    "from selenium import webdriver\n",
    "import time"
   ]
  },
  {
   "cell_type": "code",
   "execution_count": null,
   "id": "e5ad5164-3be1-4387-87f7-26b7bcf030de",
   "metadata": {},
   "outputs": [],
   "source": [
    "driver=webdriver.Chrome()\n",
    "driver.get(url)\n",
    "\n",
    "page=driver.page_source\n",
    "soup=BeautifulSoup(page,'lxml')\n",
    "print(soup.select('ul.quickSearchResultBox'))\n"
   ]
  }
 ],
 "metadata": {
  "kernelspec": {
   "display_name": "Python 3 (ipykernel)",
   "language": "python",
   "name": "python3"
  },
  "language_info": {
   "codemirror_mode": {
    "name": "ipython",
    "version": 3
   },
   "file_extension": ".py",
   "mimetype": "text/x-python",
   "name": "python",
   "nbconvert_exporter": "python",
   "pygments_lexer": "ipython3",
   "version": "3.11.1"
  }
 },
 "nbformat": 4,
 "nbformat_minor": 5
}
